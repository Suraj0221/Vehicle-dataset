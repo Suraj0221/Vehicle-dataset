{
 "cells": [
  {
   "cell_type": "markdown",
   "id": "3d13b422",
   "metadata": {},
   "source": [
    "# Vehicle Dataset\n",
    "\n",
    "This dataset contains information about used cars.\n",
    "This data can be used for a lot of purposes such as price prediction to exemplify the use of linear regression in Machine Learning.\n",
    "The columns in the given dataset are as follows:\n",
    "\n",
    "1. name\n",
    "2. year\n",
    "3. selling_price\n",
    "4. km_driven\n",
    "5. fuel\n",
    "6. seller_type\n",
    "7. transmission\n",
    "8. Owner"
   ]
  },
  {
   "cell_type": "markdown",
   "id": "3dd01da1",
   "metadata": {},
   "source": [
    "# Import all the libraries and data visualization tools"
   ]
  },
  {
   "cell_type": "code",
   "execution_count": 1,
   "id": "00e80a27",
   "metadata": {},
   "outputs": [],
   "source": [
    "import numpy as np\n",
    "import pandas as pd\n",
    "import matplotlib.pyplot as plt\n",
    "import seaborn as sns\n",
    "import warnings\n",
    "warnings.filterwarnings(\"ignore\")"
   ]
  },
  {
   "cell_type": "markdown",
   "id": "c35bf143",
   "metadata": {},
   "source": [
    "# Read the vehicle_csv file and check the head of the dataframe"
   ]
  },
  {
   "cell_type": "code",
   "execution_count": 3,
   "id": "6616be85",
   "metadata": {},
   "outputs": [
    {
     "data": {
      "text/html": [
       "<div>\n",
       "<style scoped>\n",
       "    .dataframe tbody tr th:only-of-type {\n",
       "        vertical-align: middle;\n",
       "    }\n",
       "\n",
       "    .dataframe tbody tr th {\n",
       "        vertical-align: top;\n",
       "    }\n",
       "\n",
       "    .dataframe thead th {\n",
       "        text-align: right;\n",
       "    }\n",
       "</style>\n",
       "<table border=\"1\" class=\"dataframe\">\n",
       "  <thead>\n",
       "    <tr style=\"text-align: right;\">\n",
       "      <th></th>\n",
       "      <th>name</th>\n",
       "      <th>year</th>\n",
       "      <th>selling_price</th>\n",
       "      <th>km_driven</th>\n",
       "      <th>fuel</th>\n",
       "      <th>seller_type</th>\n",
       "      <th>transmission</th>\n",
       "      <th>owner</th>\n",
       "    </tr>\n",
       "  </thead>\n",
       "  <tbody>\n",
       "    <tr>\n",
       "      <th>0</th>\n",
       "      <td>Maruti 800 AC</td>\n",
       "      <td>2007</td>\n",
       "      <td>60000</td>\n",
       "      <td>70000</td>\n",
       "      <td>Petrol</td>\n",
       "      <td>Individual</td>\n",
       "      <td>Manual</td>\n",
       "      <td>First Owner</td>\n",
       "    </tr>\n",
       "    <tr>\n",
       "      <th>1</th>\n",
       "      <td>Maruti Wagon R LXI Minor</td>\n",
       "      <td>2007</td>\n",
       "      <td>135000</td>\n",
       "      <td>50000</td>\n",
       "      <td>Petrol</td>\n",
       "      <td>Individual</td>\n",
       "      <td>Manual</td>\n",
       "      <td>First Owner</td>\n",
       "    </tr>\n",
       "    <tr>\n",
       "      <th>2</th>\n",
       "      <td>Hyundai Verna 1.6 SX</td>\n",
       "      <td>2012</td>\n",
       "      <td>600000</td>\n",
       "      <td>100000</td>\n",
       "      <td>Diesel</td>\n",
       "      <td>Individual</td>\n",
       "      <td>Manual</td>\n",
       "      <td>First Owner</td>\n",
       "    </tr>\n",
       "    <tr>\n",
       "      <th>3</th>\n",
       "      <td>Datsun RediGO T Option</td>\n",
       "      <td>2017</td>\n",
       "      <td>250000</td>\n",
       "      <td>46000</td>\n",
       "      <td>Petrol</td>\n",
       "      <td>Individual</td>\n",
       "      <td>Manual</td>\n",
       "      <td>First Owner</td>\n",
       "    </tr>\n",
       "    <tr>\n",
       "      <th>4</th>\n",
       "      <td>Honda Amaze VX i-DTEC</td>\n",
       "      <td>2014</td>\n",
       "      <td>450000</td>\n",
       "      <td>141000</td>\n",
       "      <td>Diesel</td>\n",
       "      <td>Individual</td>\n",
       "      <td>Manual</td>\n",
       "      <td>Second Owner</td>\n",
       "    </tr>\n",
       "  </tbody>\n",
       "</table>\n",
       "</div>"
      ],
      "text/plain": [
       "                       name  year  selling_price  km_driven    fuel  \\\n",
       "0             Maruti 800 AC  2007          60000      70000  Petrol   \n",
       "1  Maruti Wagon R LXI Minor  2007         135000      50000  Petrol   \n",
       "2      Hyundai Verna 1.6 SX  2012         600000     100000  Diesel   \n",
       "3    Datsun RediGO T Option  2017         250000      46000  Petrol   \n",
       "4     Honda Amaze VX i-DTEC  2014         450000     141000  Diesel   \n",
       "\n",
       "  seller_type transmission         owner  \n",
       "0  Individual       Manual   First Owner  \n",
       "1  Individual       Manual   First Owner  \n",
       "2  Individual       Manual   First Owner  \n",
       "3  Individual       Manual   First Owner  \n",
       "4  Individual       Manual  Second Owner  "
      ]
     },
     "execution_count": 3,
     "metadata": {},
     "output_type": "execute_result"
    }
   ],
   "source": [
    "veh=pd.read_csv(\"vehicle.csv\")\n",
    "veh.head()"
   ]
  },
  {
   "cell_type": "markdown",
   "id": "7aead262",
   "metadata": {},
   "source": [
    "## Check the information of dataframe"
   ]
  },
  {
   "cell_type": "code",
   "execution_count": 4,
   "id": "d76a63ad",
   "metadata": {},
   "outputs": [
    {
     "name": "stdout",
     "output_type": "stream",
     "text": [
      "<class 'pandas.core.frame.DataFrame'>\n",
      "RangeIndex: 4340 entries, 0 to 4339\n",
      "Data columns (total 8 columns):\n",
      " #   Column         Non-Null Count  Dtype \n",
      "---  ------         --------------  ----- \n",
      " 0   name           4340 non-null   object\n",
      " 1   year           4340 non-null   int64 \n",
      " 2   selling_price  4340 non-null   int64 \n",
      " 3   km_driven      4340 non-null   int64 \n",
      " 4   fuel           4340 non-null   object\n",
      " 5   seller_type    4340 non-null   object\n",
      " 6   transmission   4340 non-null   object\n",
      " 7   owner          4340 non-null   object\n",
      "dtypes: int64(3), object(5)\n",
      "memory usage: 271.4+ KB\n"
     ]
    }
   ],
   "source": [
    "veh.info()"
   ]
  },
  {
   "cell_type": "markdown",
   "id": "66699fe0",
   "metadata": {},
   "source": [
    "## Check the rows and columns of dataframe"
   ]
  },
  {
   "cell_type": "code",
   "execution_count": 5,
   "id": "a676df33",
   "metadata": {},
   "outputs": [
    {
     "data": {
      "text/plain": [
       "(4340, 8)"
      ]
     },
     "execution_count": 5,
     "metadata": {},
     "output_type": "execute_result"
    }
   ],
   "source": [
    "veh.shape"
   ]
  },
  {
   "cell_type": "markdown",
   "id": "7705e806",
   "metadata": {},
   "source": [
    "## Check the descriptive statistics of the dataset"
   ]
  },
  {
   "cell_type": "code",
   "execution_count": 6,
   "id": "e35d6e6c",
   "metadata": {},
   "outputs": [
    {
     "data": {
      "text/html": [
       "<div>\n",
       "<style scoped>\n",
       "    .dataframe tbody tr th:only-of-type {\n",
       "        vertical-align: middle;\n",
       "    }\n",
       "\n",
       "    .dataframe tbody tr th {\n",
       "        vertical-align: top;\n",
       "    }\n",
       "\n",
       "    .dataframe thead th {\n",
       "        text-align: right;\n",
       "    }\n",
       "</style>\n",
       "<table border=\"1\" class=\"dataframe\">\n",
       "  <thead>\n",
       "    <tr style=\"text-align: right;\">\n",
       "      <th></th>\n",
       "      <th>year</th>\n",
       "      <th>selling_price</th>\n",
       "      <th>km_driven</th>\n",
       "    </tr>\n",
       "  </thead>\n",
       "  <tbody>\n",
       "    <tr>\n",
       "      <th>count</th>\n",
       "      <td>4340.000000</td>\n",
       "      <td>4.340000e+03</td>\n",
       "      <td>4340.000000</td>\n",
       "    </tr>\n",
       "    <tr>\n",
       "      <th>mean</th>\n",
       "      <td>2013.090783</td>\n",
       "      <td>5.041273e+05</td>\n",
       "      <td>66215.777419</td>\n",
       "    </tr>\n",
       "    <tr>\n",
       "      <th>std</th>\n",
       "      <td>4.215344</td>\n",
       "      <td>5.785487e+05</td>\n",
       "      <td>46644.102194</td>\n",
       "    </tr>\n",
       "    <tr>\n",
       "      <th>min</th>\n",
       "      <td>1992.000000</td>\n",
       "      <td>2.000000e+04</td>\n",
       "      <td>1.000000</td>\n",
       "    </tr>\n",
       "    <tr>\n",
       "      <th>25%</th>\n",
       "      <td>2011.000000</td>\n",
       "      <td>2.087498e+05</td>\n",
       "      <td>35000.000000</td>\n",
       "    </tr>\n",
       "    <tr>\n",
       "      <th>50%</th>\n",
       "      <td>2014.000000</td>\n",
       "      <td>3.500000e+05</td>\n",
       "      <td>60000.000000</td>\n",
       "    </tr>\n",
       "    <tr>\n",
       "      <th>75%</th>\n",
       "      <td>2016.000000</td>\n",
       "      <td>6.000000e+05</td>\n",
       "      <td>90000.000000</td>\n",
       "    </tr>\n",
       "    <tr>\n",
       "      <th>max</th>\n",
       "      <td>2020.000000</td>\n",
       "      <td>8.900000e+06</td>\n",
       "      <td>806599.000000</td>\n",
       "    </tr>\n",
       "  </tbody>\n",
       "</table>\n",
       "</div>"
      ],
      "text/plain": [
       "              year  selling_price      km_driven\n",
       "count  4340.000000   4.340000e+03    4340.000000\n",
       "mean   2013.090783   5.041273e+05   66215.777419\n",
       "std       4.215344   5.785487e+05   46644.102194\n",
       "min    1992.000000   2.000000e+04       1.000000\n",
       "25%    2011.000000   2.087498e+05   35000.000000\n",
       "50%    2014.000000   3.500000e+05   60000.000000\n",
       "75%    2016.000000   6.000000e+05   90000.000000\n",
       "max    2020.000000   8.900000e+06  806599.000000"
      ]
     },
     "execution_count": 6,
     "metadata": {},
     "output_type": "execute_result"
    }
   ],
   "source": [
    "veh.describe()"
   ]
  },
  {
   "cell_type": "markdown",
   "id": "a1b9533a",
   "metadata": {},
   "source": [
    "## Check the descriptive statistics of the dataset including object"
   ]
  },
  {
   "cell_type": "code",
   "execution_count": 7,
   "id": "2aa903d9",
   "metadata": {},
   "outputs": [
    {
     "data": {
      "text/html": [
       "<div>\n",
       "<style scoped>\n",
       "    .dataframe tbody tr th:only-of-type {\n",
       "        vertical-align: middle;\n",
       "    }\n",
       "\n",
       "    .dataframe tbody tr th {\n",
       "        vertical-align: top;\n",
       "    }\n",
       "\n",
       "    .dataframe thead th {\n",
       "        text-align: right;\n",
       "    }\n",
       "</style>\n",
       "<table border=\"1\" class=\"dataframe\">\n",
       "  <thead>\n",
       "    <tr style=\"text-align: right;\">\n",
       "      <th></th>\n",
       "      <th>name</th>\n",
       "      <th>fuel</th>\n",
       "      <th>seller_type</th>\n",
       "      <th>transmission</th>\n",
       "      <th>owner</th>\n",
       "    </tr>\n",
       "  </thead>\n",
       "  <tbody>\n",
       "    <tr>\n",
       "      <th>count</th>\n",
       "      <td>4340</td>\n",
       "      <td>4340</td>\n",
       "      <td>4340</td>\n",
       "      <td>4340</td>\n",
       "      <td>4340</td>\n",
       "    </tr>\n",
       "    <tr>\n",
       "      <th>unique</th>\n",
       "      <td>1491</td>\n",
       "      <td>5</td>\n",
       "      <td>3</td>\n",
       "      <td>2</td>\n",
       "      <td>5</td>\n",
       "    </tr>\n",
       "    <tr>\n",
       "      <th>top</th>\n",
       "      <td>Maruti Swift Dzire VDI</td>\n",
       "      <td>Diesel</td>\n",
       "      <td>Individual</td>\n",
       "      <td>Manual</td>\n",
       "      <td>First Owner</td>\n",
       "    </tr>\n",
       "    <tr>\n",
       "      <th>freq</th>\n",
       "      <td>69</td>\n",
       "      <td>2153</td>\n",
       "      <td>3244</td>\n",
       "      <td>3892</td>\n",
       "      <td>2832</td>\n",
       "    </tr>\n",
       "  </tbody>\n",
       "</table>\n",
       "</div>"
      ],
      "text/plain": [
       "                          name    fuel seller_type transmission        owner\n",
       "count                     4340    4340        4340         4340         4340\n",
       "unique                    1491       5           3            2            5\n",
       "top     Maruti Swift Dzire VDI  Diesel  Individual       Manual  First Owner\n",
       "freq                        69    2153        3244         3892         2832"
      ]
     },
     "execution_count": 7,
     "metadata": {},
     "output_type": "execute_result"
    }
   ],
   "source": [
    "veh.describe(include=\"object\")"
   ]
  },
  {
   "cell_type": "markdown",
   "id": "998908a0",
   "metadata": {},
   "source": [
    "## Check the missing values of dataframe"
   ]
  },
  {
   "cell_type": "code",
   "execution_count": 8,
   "id": "279fb303",
   "metadata": {},
   "outputs": [
    {
     "data": {
      "text/html": [
       "<div>\n",
       "<style scoped>\n",
       "    .dataframe tbody tr th:only-of-type {\n",
       "        vertical-align: middle;\n",
       "    }\n",
       "\n",
       "    .dataframe tbody tr th {\n",
       "        vertical-align: top;\n",
       "    }\n",
       "\n",
       "    .dataframe thead th {\n",
       "        text-align: right;\n",
       "    }\n",
       "</style>\n",
       "<table border=\"1\" class=\"dataframe\">\n",
       "  <thead>\n",
       "    <tr style=\"text-align: right;\">\n",
       "      <th></th>\n",
       "      <th>name</th>\n",
       "      <th>year</th>\n",
       "      <th>selling_price</th>\n",
       "      <th>km_driven</th>\n",
       "      <th>fuel</th>\n",
       "      <th>seller_type</th>\n",
       "      <th>transmission</th>\n",
       "      <th>owner</th>\n",
       "    </tr>\n",
       "  </thead>\n",
       "  <tbody>\n",
       "    <tr>\n",
       "      <th>0</th>\n",
       "      <td>False</td>\n",
       "      <td>False</td>\n",
       "      <td>False</td>\n",
       "      <td>False</td>\n",
       "      <td>False</td>\n",
       "      <td>False</td>\n",
       "      <td>False</td>\n",
       "      <td>False</td>\n",
       "    </tr>\n",
       "    <tr>\n",
       "      <th>1</th>\n",
       "      <td>False</td>\n",
       "      <td>False</td>\n",
       "      <td>False</td>\n",
       "      <td>False</td>\n",
       "      <td>False</td>\n",
       "      <td>False</td>\n",
       "      <td>False</td>\n",
       "      <td>False</td>\n",
       "    </tr>\n",
       "    <tr>\n",
       "      <th>2</th>\n",
       "      <td>False</td>\n",
       "      <td>False</td>\n",
       "      <td>False</td>\n",
       "      <td>False</td>\n",
       "      <td>False</td>\n",
       "      <td>False</td>\n",
       "      <td>False</td>\n",
       "      <td>False</td>\n",
       "    </tr>\n",
       "    <tr>\n",
       "      <th>3</th>\n",
       "      <td>False</td>\n",
       "      <td>False</td>\n",
       "      <td>False</td>\n",
       "      <td>False</td>\n",
       "      <td>False</td>\n",
       "      <td>False</td>\n",
       "      <td>False</td>\n",
       "      <td>False</td>\n",
       "    </tr>\n",
       "    <tr>\n",
       "      <th>4</th>\n",
       "      <td>False</td>\n",
       "      <td>False</td>\n",
       "      <td>False</td>\n",
       "      <td>False</td>\n",
       "      <td>False</td>\n",
       "      <td>False</td>\n",
       "      <td>False</td>\n",
       "      <td>False</td>\n",
       "    </tr>\n",
       "    <tr>\n",
       "      <th>...</th>\n",
       "      <td>...</td>\n",
       "      <td>...</td>\n",
       "      <td>...</td>\n",
       "      <td>...</td>\n",
       "      <td>...</td>\n",
       "      <td>...</td>\n",
       "      <td>...</td>\n",
       "      <td>...</td>\n",
       "    </tr>\n",
       "    <tr>\n",
       "      <th>4335</th>\n",
       "      <td>False</td>\n",
       "      <td>False</td>\n",
       "      <td>False</td>\n",
       "      <td>False</td>\n",
       "      <td>False</td>\n",
       "      <td>False</td>\n",
       "      <td>False</td>\n",
       "      <td>False</td>\n",
       "    </tr>\n",
       "    <tr>\n",
       "      <th>4336</th>\n",
       "      <td>False</td>\n",
       "      <td>False</td>\n",
       "      <td>False</td>\n",
       "      <td>False</td>\n",
       "      <td>False</td>\n",
       "      <td>False</td>\n",
       "      <td>False</td>\n",
       "      <td>False</td>\n",
       "    </tr>\n",
       "    <tr>\n",
       "      <th>4337</th>\n",
       "      <td>False</td>\n",
       "      <td>False</td>\n",
       "      <td>False</td>\n",
       "      <td>False</td>\n",
       "      <td>False</td>\n",
       "      <td>False</td>\n",
       "      <td>False</td>\n",
       "      <td>False</td>\n",
       "    </tr>\n",
       "    <tr>\n",
       "      <th>4338</th>\n",
       "      <td>False</td>\n",
       "      <td>False</td>\n",
       "      <td>False</td>\n",
       "      <td>False</td>\n",
       "      <td>False</td>\n",
       "      <td>False</td>\n",
       "      <td>False</td>\n",
       "      <td>False</td>\n",
       "    </tr>\n",
       "    <tr>\n",
       "      <th>4339</th>\n",
       "      <td>False</td>\n",
       "      <td>False</td>\n",
       "      <td>False</td>\n",
       "      <td>False</td>\n",
       "      <td>False</td>\n",
       "      <td>False</td>\n",
       "      <td>False</td>\n",
       "      <td>False</td>\n",
       "    </tr>\n",
       "  </tbody>\n",
       "</table>\n",
       "<p>4340 rows × 8 columns</p>\n",
       "</div>"
      ],
      "text/plain": [
       "       name   year  selling_price  km_driven   fuel  seller_type  \\\n",
       "0     False  False          False      False  False        False   \n",
       "1     False  False          False      False  False        False   \n",
       "2     False  False          False      False  False        False   \n",
       "3     False  False          False      False  False        False   \n",
       "4     False  False          False      False  False        False   \n",
       "...     ...    ...            ...        ...    ...          ...   \n",
       "4335  False  False          False      False  False        False   \n",
       "4336  False  False          False      False  False        False   \n",
       "4337  False  False          False      False  False        False   \n",
       "4338  False  False          False      False  False        False   \n",
       "4339  False  False          False      False  False        False   \n",
       "\n",
       "      transmission  owner  \n",
       "0            False  False  \n",
       "1            False  False  \n",
       "2            False  False  \n",
       "3            False  False  \n",
       "4            False  False  \n",
       "...            ...    ...  \n",
       "4335         False  False  \n",
       "4336         False  False  \n",
       "4337         False  False  \n",
       "4338         False  False  \n",
       "4339         False  False  \n",
       "\n",
       "[4340 rows x 8 columns]"
      ]
     },
     "execution_count": 8,
     "metadata": {},
     "output_type": "execute_result"
    }
   ],
   "source": [
    "veh.isna()"
   ]
  },
  {
   "cell_type": "markdown",
   "id": "f9397a83",
   "metadata": {},
   "source": [
    "## Check the sum of missing values of dataframe"
   ]
  },
  {
   "cell_type": "code",
   "execution_count": 10,
   "id": "e35a5e15",
   "metadata": {},
   "outputs": [
    {
     "data": {
      "text/plain": [
       "name             0\n",
       "year             0\n",
       "selling_price    0\n",
       "km_driven        0\n",
       "fuel             0\n",
       "seller_type      0\n",
       "transmission     0\n",
       "owner            0\n",
       "dtype: int64"
      ]
     },
     "execution_count": 10,
     "metadata": {},
     "output_type": "execute_result"
    }
   ],
   "source": [
    "veh.isna().sum()"
   ]
  },
  {
   "cell_type": "markdown",
   "id": "88a5744a",
   "metadata": {},
   "source": [
    "## Check the unique values of selling_price"
   ]
  },
  {
   "cell_type": "code",
   "execution_count": 11,
   "id": "63305df5",
   "metadata": {},
   "outputs": [
    {
     "data": {
      "text/plain": [
       "array([  60000,  135000,  600000,  250000,  450000,  140000,  550000,\n",
       "        240000,  850000,  365000,  260000, 1650000,  585000, 1195000,\n",
       "        390000, 1964999, 1425000,  975000, 1190000,  930000,  525000,\n",
       "       1735000, 1375000,  900000, 1300000, 1400000,  229999, 1550000,\n",
       "       1250000,  625000, 1050000,  560000,  290000,  275000,  411000,\n",
       "        150000,  500000,  100000,  725000,  401000,  750000,  310000,\n",
       "        665000,  465000,  160000,  675000,  300000,   70000,  151000,\n",
       "        280000,  350000,  570000,  125000,  130000,  925000,  200000,\n",
       "        248000,   80000,  650000,  495000,  371000, 1025000, 8150000,\n",
       "        325000, 1470000, 2800000,  210000, 1150000, 4500000, 2750000,\n",
       "       1975000,  175000, 2500000,  628000,  399000,  315000,  780000,\n",
       "        434000,  690000,  555000,  120000,  165000,   95000,  800000,\n",
       "        840000,  490000,  400000, 1000000,  530000,   40000,   75000,\n",
       "        540000,  700000,  430000,   65000,  195000,  170000,  225000,\n",
       "         99000,  620000, 2550000,  320000,  810000,  282000,   72000,\n",
       "        640000,  380000, 1500000,  434999,  190000, 2900000,  425000,\n",
       "        265000,  890000,  685000,  940000,  590000,  385000, 2000000,\n",
       "        235000,   52000,   89999,  180000,  285000, 1075000,   90000,\n",
       "        220000,  110000,  880000,  115999,  360000,  680000,  860000,\n",
       "        270000,  395000,  624000,  345000,  106000, 1800000,  575000,\n",
       "        370000,   50000,   55000,  755000,  720000, 1100000,  159000,\n",
       "        335000,  185000,  470000,  145000,  595000, 1600000,  105000,\n",
       "        409999,  215000,  475000,  330000, 1044999, 1350000,  420000,\n",
       "        760000,   43000, 1850000, 1125000,  133000,  352000,  520000,\n",
       "        509999,  556000,  484999,  565000,  295000, 2050000, 1475000,\n",
       "       4400000,  670000,  770000,  775000, 1725000, 2150000, 3800000,\n",
       "       1580000, 4950000,  535000,  239000, 2600000,  114999,  200999,\n",
       "        710000,  969999,  155000,  138000,  311000,   58000,  183000,\n",
       "        825000,  299000,  639000,  415000, 1199000,  699000,  269000,\n",
       "        249000, 1549000,  254999,  211000,  599000, 4000000, 1200000,\n",
       "         98000,  790000, 1700000,   68000,  875000, 1330000,  919999,\n",
       "        611000,  711000,  851000,  610000,  744000,  480000,  950000,\n",
       "         85000,  615000,  227000,  222000,  735000,  271000, 1490000,\n",
       "        455000,  421000, 2700000, 4700000, 1900000, 1770000,  660000,\n",
       "        716000,  147000, 1140000, 3050000,  375000, 1950000,  340000,\n",
       "       3100000,  245000,  715000, 1750000, 3500000,  835000, 2490000,\n",
       "       1015000,   91200, 2400000,  635000,  302000,  204999,  341000,\n",
       "        819999,  351000,  630000, 1085000,  580000,   78000, 3200000,\n",
       "        695000,  355000,  619000,   81000,  486000,  802000, 2300000,\n",
       "        287000,  250999,   45000, 1485000, 1825000, 3256000,  451000,\n",
       "        149000,  163000,  419000,  990000,  346000,  509000,   69000,\n",
       "       1380000,  256000,   97000,  199000, 2595000,  730000,  368000,\n",
       "        545000,  641000,  784000,  324000, 2100000,  305000,  221000,\n",
       "        828999, 1119000,  746000, 1030000, 1334000,  811999, 1331000,\n",
       "        852000,  830000,  213000,   35000,  869999,  178000,  515000,\n",
       "        312000,  111000,  774000,  148000,   57000,  284000,  349000,\n",
       "        458000,  381000,  751000,  782000,  321000,   92800,  291000,\n",
       "         73000,  655000,  263000,  217000,  539000,  142000,  910000,\n",
       "        740000,  164000,  999000,   56000, 3899000,  440000,  238000,\n",
       "       1295000,  541000,  894999,  844999,  288000, 1225000, 1010000,\n",
       "         30000,  396000,  281000,   93000,  459999,   88000,   22000,\n",
       "         79000,  198000,  182000,  861999,  836000,  696000,  596000,\n",
       "        612000,   20000,   61000,  511000, 1230000,  426000,   62000,\n",
       "       1450000,   71000, 2200000, 1249000, 1240000, 1068000, 1189000,\n",
       "        363000,  821000,  815000,  738000,  765000,  516000,  134000,\n",
       "        347000, 2650000, 2675000,  359000,  980000,  707000,  471000,\n",
       "        377000,  763000,  701000,  277000,  936999,   82000,  799000,\n",
       "       1451000, 1575000,   78692,  479000,   48000,  121000,  785000,\n",
       "        173000, 4800000,  587000,  123000, 1290000,  193000,  721000,\n",
       "       1040000, 2349000, 1165000,   42000, 1680000,  231999,  841000,\n",
       "       1280000, 1090000,  449000,  724000,  126000,  795000, 2575000,\n",
       "       1035000, 1260000, 8900000, 1860000, 4200000, 5500000,  430999,\n",
       "       1151000,  927999,   51111,  212000,  428000,  219000,  749000,\n",
       "        233000,  614000,   37500,  865000], dtype=int64)"
      ]
     },
     "execution_count": 11,
     "metadata": {},
     "output_type": "execute_result"
    }
   ],
   "source": [
    "veh.selling_price.unique()"
   ]
  },
  {
   "cell_type": "markdown",
   "id": "097db755",
   "metadata": {},
   "source": [
    "## Check the number of unique values of selling_price"
   ]
  },
  {
   "cell_type": "code",
   "execution_count": 12,
   "id": "4bf0c823",
   "metadata": {},
   "outputs": [
    {
     "data": {
      "text/plain": [
       "445"
      ]
     },
     "execution_count": 12,
     "metadata": {},
     "output_type": "execute_result"
    }
   ],
   "source": [
    "veh.selling_price.nunique()"
   ]
  },
  {
   "cell_type": "markdown",
   "id": "e643f4ae",
   "metadata": {},
   "source": [
    "## Check which vehicle is more expnsive in dataframe"
   ]
  },
  {
   "cell_type": "code",
   "execution_count": 13,
   "id": "d4e28fa8",
   "metadata": {},
   "outputs": [
    {
     "data": {
      "text/html": [
       "<div>\n",
       "<style scoped>\n",
       "    .dataframe tbody tr th:only-of-type {\n",
       "        vertical-align: middle;\n",
       "    }\n",
       "\n",
       "    .dataframe tbody tr th {\n",
       "        vertical-align: top;\n",
       "    }\n",
       "\n",
       "    .dataframe thead th {\n",
       "        text-align: right;\n",
       "    }\n",
       "</style>\n",
       "<table border=\"1\" class=\"dataframe\">\n",
       "  <thead>\n",
       "    <tr style=\"text-align: right;\">\n",
       "      <th></th>\n",
       "      <th>name</th>\n",
       "      <th>year</th>\n",
       "      <th>selling_price</th>\n",
       "      <th>km_driven</th>\n",
       "      <th>fuel</th>\n",
       "      <th>seller_type</th>\n",
       "      <th>transmission</th>\n",
       "      <th>owner</th>\n",
       "    </tr>\n",
       "  </thead>\n",
       "  <tbody>\n",
       "    <tr>\n",
       "      <th>3872</th>\n",
       "      <td>Audi RS7 2015-2019 Sportback Performance</td>\n",
       "      <td>2016</td>\n",
       "      <td>8900000</td>\n",
       "      <td>13000</td>\n",
       "      <td>Petrol</td>\n",
       "      <td>Dealer</td>\n",
       "      <td>Automatic</td>\n",
       "      <td>First Owner</td>\n",
       "    </tr>\n",
       "  </tbody>\n",
       "</table>\n",
       "</div>"
      ],
      "text/plain": [
       "                                          name  year  selling_price  \\\n",
       "3872  Audi RS7 2015-2019 Sportback Performance  2016        8900000   \n",
       "\n",
       "      km_driven    fuel seller_type transmission        owner  \n",
       "3872      13000  Petrol      Dealer    Automatic  First Owner  "
      ]
     },
     "execution_count": 13,
     "metadata": {},
     "output_type": "execute_result"
    }
   ],
   "source": [
    "veh[veh[\"selling_price\"]==8900000]"
   ]
  },
  {
   "cell_type": "markdown",
   "id": "3a619436",
   "metadata": {},
   "source": [
    "## Check which vehicle is less expnsive in dataframe"
   ]
  },
  {
   "cell_type": "code",
   "execution_count": 14,
   "id": "7e57e12d",
   "metadata": {},
   "outputs": [
    {
     "data": {
      "text/html": [
       "<div>\n",
       "<style scoped>\n",
       "    .dataframe tbody tr th:only-of-type {\n",
       "        vertical-align: middle;\n",
       "    }\n",
       "\n",
       "    .dataframe tbody tr th {\n",
       "        vertical-align: top;\n",
       "    }\n",
       "\n",
       "    .dataframe thead th {\n",
       "        text-align: right;\n",
       "    }\n",
       "</style>\n",
       "<table border=\"1\" class=\"dataframe\">\n",
       "  <thead>\n",
       "    <tr style=\"text-align: right;\">\n",
       "      <th></th>\n",
       "      <th>name</th>\n",
       "      <th>year</th>\n",
       "      <th>selling_price</th>\n",
       "      <th>km_driven</th>\n",
       "      <th>fuel</th>\n",
       "      <th>seller_type</th>\n",
       "      <th>transmission</th>\n",
       "      <th>owner</th>\n",
       "    </tr>\n",
       "  </thead>\n",
       "  <tbody>\n",
       "    <tr>\n",
       "      <th>2662</th>\n",
       "      <td>Ford Ikon 1.6 ZXI NXt</td>\n",
       "      <td>2005</td>\n",
       "      <td>20000</td>\n",
       "      <td>25000</td>\n",
       "      <td>Petrol</td>\n",
       "      <td>Individual</td>\n",
       "      <td>Manual</td>\n",
       "      <td>Second Owner</td>\n",
       "    </tr>\n",
       "  </tbody>\n",
       "</table>\n",
       "</div>"
      ],
      "text/plain": [
       "                       name  year  selling_price  km_driven    fuel  \\\n",
       "2662  Ford Ikon 1.6 ZXI NXt  2005          20000      25000  Petrol   \n",
       "\n",
       "     seller_type transmission         owner  \n",
       "2662  Individual       Manual  Second Owner  "
      ]
     },
     "execution_count": 14,
     "metadata": {},
     "output_type": "execute_result"
    }
   ],
   "source": [
    "veh[veh[\"selling_price\"]<=20000]"
   ]
  },
  {
   "cell_type": "code",
   "execution_count": null,
   "id": "b4fc5214",
   "metadata": {},
   "outputs": [],
   "source": []
  },
  {
   "cell_type": "code",
   "execution_count": 15,
   "id": "b7405204",
   "metadata": {},
   "outputs": [
    {
     "data": {
      "image/png": "[encoded data removed]",
      "text/plain": [
       "<Figure size 864x576 with 1 Axes>"
      ]
     },
     "metadata": {
      "needs_background": "light"
     },
     "output_type": "display_data"
    }
   ],
   "source": [
    "plt.figure(figsize=(12,8))\n",
    "sns.countplot(data=veh, x=\"owner\")\n",
    "plt.grid(True)"
   ]
  },
  {
   "cell_type": "code",
   "execution_count": null,
   "id": "cfab59b1",
   "metadata": {},
   "outputs": [],
   "source": []
  },
  {
   "cell_type": "code",
   "execution_count": 22,
   "id": "8763ad4d",
   "metadata": {},
   "outputs": [
    {
     "data": {
      "image/png": "[encoded data removed]",
      "text/plain": [
       "<Figure size 432x288 with 1 Axes>"
      ]
     },
     "metadata": {
      "needs_background": "light"
     },
     "output_type": "display_data"
    }
   ],
   "source": [
    "sns.scatterplot(data=veh, x=\"selling_price\", y=\"km_driven\", hue=\"fuel\")\n",
    "plt.show()"
   ]
  },
  {
   "cell_type": "code",
   "execution_count": null,
   "id": "5c33837f",
   "metadata": {},
   "outputs": [],
   "source": []
  },
  {
   "cell_type": "code",
   "execution_count": 16,
   "id": "2dded333",
   "metadata": {},
   "outputs": [
    {
     "data": {
      "image/png": "[encoded data removed]",
      "text/plain": [
       "<Figure size 432x288 with 1 Axes>"
      ]
     },
     "metadata": {
      "needs_background": "light"
     },
     "output_type": "display_data"
    }
   ],
   "source": [
    "sns.scatterplot(data=veh,x=\"selling_price\", y=\"km_driven\", hue=\"transmission\")\n",
    "plt.show()"
   ]
  },
  {
   "cell_type": "code",
   "execution_count": null,
   "id": "676a884a",
   "metadata": {},
   "outputs": [],
   "source": []
  },
  {
   "cell_type": "code",
   "execution_count": 17,
   "id": "9954f4dc",
   "metadata": {},
   "outputs": [
    {
     "data": {
      "text/html": [
       "<div>\n",
       "<style scoped>\n",
       "    .dataframe tbody tr th:only-of-type {\n",
       "        vertical-align: middle;\n",
       "    }\n",
       "\n",
       "    .dataframe tbody tr th {\n",
       "        vertical-align: top;\n",
       "    }\n",
       "\n",
       "    .dataframe thead th {\n",
       "        text-align: right;\n",
       "    }\n",
       "</style>\n",
       "<table border=\"1\" class=\"dataframe\">\n",
       "  <thead>\n",
       "    <tr style=\"text-align: right;\">\n",
       "      <th></th>\n",
       "      <th>year</th>\n",
       "      <th>selling_price</th>\n",
       "      <th>km_driven</th>\n",
       "    </tr>\n",
       "  </thead>\n",
       "  <tbody>\n",
       "    <tr>\n",
       "      <th>year</th>\n",
       "      <td>1.000000</td>\n",
       "      <td>0.413922</td>\n",
       "      <td>-0.419688</td>\n",
       "    </tr>\n",
       "    <tr>\n",
       "      <th>selling_price</th>\n",
       "      <td>0.413922</td>\n",
       "      <td>1.000000</td>\n",
       "      <td>-0.192289</td>\n",
       "    </tr>\n",
       "    <tr>\n",
       "      <th>km_driven</th>\n",
       "      <td>-0.419688</td>\n",
       "      <td>-0.192289</td>\n",
       "      <td>1.000000</td>\n",
       "    </tr>\n",
       "  </tbody>\n",
       "</table>\n",
       "</div>"
      ],
      "text/plain": [
       "                   year  selling_price  km_driven\n",
       "year           1.000000       0.413922  -0.419688\n",
       "selling_price  0.413922       1.000000  -0.192289\n",
       "km_driven     -0.419688      -0.192289   1.000000"
      ]
     },
     "execution_count": 17,
     "metadata": {},
     "output_type": "execute_result"
    }
   ],
   "source": [
    "veh.corr()"
   ]
  },
  {
   "cell_type": "code",
   "execution_count": null,
   "id": "c7d82850",
   "metadata": {},
   "outputs": [],
   "source": []
  },
  {
   "cell_type": "code",
   "execution_count": 18,
   "id": "b2134fb8",
   "metadata": {},
   "outputs": [
    {
     "data": {
      "image/png": "[encoded data removed]",
      "text/plain": [
       "<Figure size 432x288 with 2 Axes>"
      ]
     },
     "metadata": {
      "needs_background": "light"
     },
     "output_type": "display_data"
    }
   ],
   "source": [
    "corr=veh.corr()\n",
    "\n",
    "sns.heatmap(corr,annot=True)\n",
    "plt.show()"
   ]
  },
  {
   "cell_type": "code",
   "execution_count": null,
   "id": "bb2febf6",
   "metadata": {},
   "outputs": [],
   "source": []
  },
  {
   "cell_type": "code",
   "execution_count": 40,
   "id": "22288360",
   "metadata": {},
   "outputs": [
    {
     "data": {
      "text/plain": [
       "<AxesSubplot:xlabel='selling_price', ylabel='seller_type'>"
      ]
     },
     "execution_count": 40,
     "metadata": {},
     "output_type": "execute_result"
    },
    {
     "data": {
      "image/png": "[encoded data removed]",
      "text/plain": [
       "<Figure size 864x576 with 1 Axes>"
      ]
     },
     "metadata": {
      "needs_background": "light"
     },
     "output_type": "display_data"
    }
   ],
   "source": [
    "plt.figure(figsize=(12,8))\n",
    "sns.boxplot(data=veh, x=\"selling_price\", y=\"seller_type\")"
   ]
  },
  {
   "cell_type": "code",
   "execution_count": null,
   "id": "9385174c",
   "metadata": {},
   "outputs": [],
   "source": []
  }
 ],
 "metadata": {
  "kernelspec": {
   "display_name": "Python 3",
   "language": "python",
   "name": "python3"
  },
  "language_info": {
   "codemirror_mode": {
    "name": "ipython",
    "version": 3
   },
   "file_extension": ".py",
   "mimetype": "text/x-python",
   "name": "python",
   "nbconvert_exporter": "python",
   "pygments_lexer": "ipython3",
   "version": "3.8.8"
  }
 },
 "nbformat": 4,
 "nbformat_minor": 5
}
